{
 "cells": [
  {
   "cell_type": "markdown",
   "id": "bd67a698",
   "metadata": {},
   "source": [
    "## Assignment 3 : Your first Python Program"
   ]
  },
  {
   "cell_type": "markdown",
   "id": "453b30d7",
   "metadata": {},
   "source": [
    "### Instructions\n",
    "\n",
    "Create Python Program that answers the following question:\n",
    "\n",
    "“How much building materials are needed to cover the entire floor as well as how much baseboard we should have that will be installed into the room”\n",
    "\n",
    "Imagine that you would like to remodel one of your rooms in your house/home/appartment. Select any room of your choice and measure it. Have all the measurements ready and use them as input parameters to your Python program."
   ]
  },
  {
   "cell_type": "markdown",
   "id": "df331214",
   "metadata": {},
   "source": [
    "### Solution"
   ]
  },
  {
   "cell_type": "code",
   "execution_count": 4,
   "id": "33d5b561-2ca4-4ab6-9756-34f4f4bf341b",
   "metadata": {},
   "outputs": [
    {
     "name": "stdout",
     "output_type": "stream",
     "text": [
      "Enter the length of the room in metres: 59\n",
      "Enter  the width of the room in metres: 78\n",
      "Enter  the length of the door in meters: 73\n",
      "The area of the room that needs to be covered is:  4602.0\n",
      "The following is the perimeter of the room that requires a baseboard installation: 201.0\n"
     ]
    }
   ],
   "source": [
    "# Get input parameter from user and store them in a variable.\n",
    "# Formula --area of a room = width x length.\n",
    "# Perimeter of the room = 2(width*length)-l.o.d.\n",
    "\n",
    "input_1 = float(input('Enter the length of the room in metres: '))\n",
    "input_2 = float(input('Enter  the width of the room in metres: '))\n",
    "input_3 = float(input('Enter  the length of the door in meters: '))\n",
    "\n",
    "# Print the result to the console.\n",
    "\n",
    "print(f'The area of the room that needs to be covered is: ', input_1 * input_2)\n",
    "print(f'The following is the perimeter of the room that requires a baseboard installation:', 2 * (input_1 + input_2) - input_3)"
   ]
  },
  {
   "cell_type": "code",
   "execution_count": null,
   "id": "d29212c2",
   "metadata": {},
   "outputs": [],
   "source": []
  }
 ],
 "metadata": {
  "kernelspec": {
   "display_name": "Python 3 (ipykernel)",
   "language": "python",
   "name": "python3"
  },
  "language_info": {
   "codemirror_mode": {
    "name": "ipython",
    "version": 3
   },
   "file_extension": ".py",
   "mimetype": "text/x-python",
   "name": "python",
   "nbconvert_exporter": "python",
   "pygments_lexer": "ipython3",
   "version": "3.8.8"
  }
 },
 "nbformat": 4,
 "nbformat_minor": 5
}
