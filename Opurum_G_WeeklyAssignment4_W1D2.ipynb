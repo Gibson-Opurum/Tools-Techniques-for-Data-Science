{
 "cells": [
  {
   "cell_type": "markdown",
   "id": "bd67a698",
   "metadata": {},
   "source": [
    "## Assignment 4 : Our next Python Program"
   ]
  },
  {
   "cell_type": "markdown",
   "id": "453b30d7",
   "metadata": {},
   "source": [
    "### Instructions\n",
    "\n",
    "1. Write a program that will ask a user to provide an input. Additionally, your program will try to handle the error that may occur when a user type in the any type but int. Your program should use try ... except ... else clause. Your function should print the result if the operation is successful, if the operation is not successful your program should print (Unpeacefully converted to integer).\n",
    "\n",
    "2. Push the code to your GitHub repo and share a link with your classmates"
   ]
  },
  {
   "cell_type": "markdown",
   "id": "df331214",
   "metadata": {},
   "source": [
    "### Solution"
   ]
  },
  {
   "cell_type": "code",
   "execution_count": 1,
   "id": "d29212c2",
   "metadata": {},
   "outputs": [
    {
     "name": "stdout",
     "output_type": "stream",
     "text": [
      "Please enter your age: 30\n",
      "In 10 years, you'll be 40\n",
      "Have a nice day. Goodbye.\n"
     ]
    }
   ],
   "source": [
    "# These codes attempt to print a user's age, accept exceptions, and bid the user farewell if they run successfully.\n",
    "\n",
    "try:\n",
    "    age = eval( input('Please enter your age: ') )\n",
    "    ten_years = age + 10\n",
    "    print (\"In 10 years, you'll be\", ten_years)\n",
    "except NameError:\n",
    "    print (\"Unpeacefully converted to integer\")\n",
    "else:\n",
    "    print (\"Have a nice day. Goodbye.\")"
   ]
  },
  {
   "cell_type": "code",
   "execution_count": null,
   "id": "f9e23e6b",
   "metadata": {},
   "outputs": [],
   "source": []
  }
 ],
 "metadata": {
  "kernelspec": {
   "display_name": "Python 3 (ipykernel)",
   "language": "python",
   "name": "python3"
  },
  "language_info": {
   "codemirror_mode": {
    "name": "ipython",
    "version": 3
   },
   "file_extension": ".py",
   "mimetype": "text/x-python",
   "name": "python",
   "nbconvert_exporter": "python",
   "pygments_lexer": "ipython3",
   "version": "3.8.8"
  }
 },
 "nbformat": 4,
 "nbformat_minor": 5
}
